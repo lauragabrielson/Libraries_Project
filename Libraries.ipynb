{
 "cells": [
  {
   "cell_type": "code",
   "execution_count": null,
   "metadata": {},
   "outputs": [],
   "source": [
    "# Dependencies and Setup\n",
    "import pandas as pd\n",
    "from sqlalchemy import create_engine\n",
    "from config import (password, host, port, database)"
   ]
  },
  {
   "cell_type": "code",
   "execution_count": null,
   "metadata": {},
   "outputs": [],
   "source": [
    "# Data file paths\n",
    "libraries_path = \"libraries.csv\"\n",
    "state_path = \"state_abbrev.csv\"\n",
    "\n",
    "# Read the data files\n",
    "libraries_data = pd.read_csv(libraries_path)\n",
    "state_data = pd.read_csv(state_path)\n"
   ]
  },
  {
   "cell_type": "code",
   "execution_count": null,
   "metadata": {},
   "outputs": [],
   "source": [
    "libraries_data"
   ]
  },
  {
   "cell_type": "code",
   "execution_count": null,
   "metadata": {},
   "outputs": [],
   "source": [
    "libraries_data.dtypes"
   ]
  },
  {
   "cell_type": "code",
   "execution_count": null,
   "metadata": {},
   "outputs": [],
   "source": [
    "libraries_df = libraries_data[[\"State\", \"Library ID\", \"Library Name\", \"Street Address\", \"City\", \"Longitude\", \"Latitude\", \n",
    "                               \"Service Population Without Duplicates\", \"Hours Open\", \"Library Visits\", \"Registered Users\", \n",
    "                               \"Circulation Transactions\", \"Bookmobiles\", \"MLS Librarians\", \"Librarians\", \"Employees\",\n",
    "                               \"Total Staff\", \"Salaries\", \"Benefits\", \"Total Staff Expenditures\", \"Local Government Operating Revenue\", \n",
    "                               \"State Government Operating Revenue\", \"Federal Government Operating Revenue\", \"Other Operating Revenue\", \n",
    "                               \"Total Operating Revenue\", \"Print Collection Expenditures\", \"Digital Collection Expenditures\", \n",
    "                               \"Other Collection Expenditures\", \"Total Collection Expenditures\", \"Other Operating Expenditures\", \n",
    "                               \"Total Operating Expenditures\",\"Print Collection\", \"Digital Collection\", \"Audio Collection\", \n",
    "                               \"Downloadable Audio\", \"Physical Video\", \"Downloadable Video\"]]\n",
    "                               \n",
    "libraries_df\n"
   ]
  },
  {
   "cell_type": "code",
   "execution_count": null,
   "metadata": {},
   "outputs": [],
   "source": [
    "libraries_final = libraries_df.rename(columns={\"State\": \"state\", \"Library ID\": \"library_id\", \"Library Name\": \"library_name\",\n",
    "                                               \"Street Address\": \"street_address\", \"City\": \"city\", \"Longitude\": \"lon\", \n",
    "                                               \"Latitude\": \"lat\", \"Service Population Without Duplicates\": \"services_population\",\n",
    "                                               \"Hours Open\": \"hours\", \"Library Visits\": \"visits\", \"Registered Users\": \"registered_users\",\n",
    "                                               \"Circulation Transactions\": \"circulation_transactions\", \"Bookmobiles\": \"bookmobiles\", \n",
    "                                               \"MLS Librarians\": \"mls_librarians\", \"Librarians\": \"librarians\", \"Employees\": \"employees\",\n",
    "                                               \"Total Staff\": \"total_staff\", \"Salaries\": \"salaries\", \"Benefits\": \"benefits\", \n",
    "                                               \"Total Staff Expenditures\": \"total_staff_expenditures\", \"Local Government Operating Revenue\": \"local_govt_operating_revenue\", \n",
    "                                               \"State Government Operating Revenue\": \"state_govt_operating_revenue\", \n",
    "                                               \"Federal Government Operating Revenue\": \"federal_govt_operating_revenue\", \n",
    "                                               \"Other Operating Revenue\": \"other_operating_revenue\", \"Total Operating Revenue\": \"total_operating_revenue\", \n",
    "                                               \"Print Collection Expenditures\": \"print_collections_expenditures\", \"Digital Collection Expenditures\": \"digital_collections_expenditures\", \n",
    "                                               \"Other Collection Expenditures\": \"other_collection_expenditures\", \"Total Collection Expenditures\": \"total_collection_expenditures\", \n",
    "                                               \"Other Operating Expenditures\": \"other_operating_expenditures\", \"Total Operating Expenditures\": \"total_operating_expenditures\",\n",
    "                                               \"Print Collection\": \"print_collection\", \"Digital Collection\": \"digital_collection\", \n",
    "                                               \"Audio Collection\": \"audio_collection\", \"Downloadable Audio\": \"downloadable_audio\", \n",
    "                                               \"Physical Video\": \"physical_video\", \"Downloadable Video\": \"downloadable_video\"})\n",
    "                               \n",
    "libraries_final"
   ]
  },
  {
   "cell_type": "code",
   "execution_count": null,
   "metadata": {},
   "outputs": [],
   "source": [
    "col_dtypes = dict([(k, v.name) for k, v in dict(libraries_final.dtypes).items()])\n",
    "print(col_dtypes)"
   ]
  },
  {
   "cell_type": "code",
   "execution_count": null,
   "metadata": {},
   "outputs": [],
   "source": [
    "\n",
    "libraries_final.drop(6095, inplace=True)\n"
   ]
  },
  {
   "cell_type": "code",
   "execution_count": null,
   "metadata": {},
   "outputs": [],
   "source": [
    "libraries_final[\"salaries\"] = libraries_final[\"salaries\"].str.strip()\n",
    "libraries_final[\"benefits\"] = libraries_final[\"benefits\"].str.strip()\n",
    "libraries_final[\"total_staff_expenditures\"] = libraries_final[\"total_staff_expenditures\"].str.strip()\n",
    "libraries_final[\"other_collection_expenditures\"] = libraries_final[\"other_collection_expenditures\"].str.strip()\n",
    "libraries_final[\"other_operating_expenditures\"] = libraries_final[\"other_operating_expenditures\"].str.strip()\n"
   ]
  },
  {
   "cell_type": "code",
   "execution_count": null,
   "metadata": {},
   "outputs": [],
   "source": [
    "libraries_final[\"benefits\"] = libraries_final[\"benefits\"].str.strip()\n",
    "libraries_final[\"total_staff_expenditures\"] = libraries_final[\"total_staff_expenditures\"].str.strip()\n"
   ]
  },
  {
   "cell_type": "code",
   "execution_count": null,
   "metadata": {},
   "outputs": [],
   "source": [
    "# df[\"A\"] = pd.to_numeric(df[\"A\"], downcast=\"float\")\n",
    "libraries_final[\"salaries\"] = pd.to_numeric(libraries_final[\"salaries\"])\n",
    "libraries_final[\"benefits\"] = pd.to_numeric(libraries_final[\"benefits\"])\n",
    "libraries_final[\"total_staff_expenditures\"] = pd.to_numeric(libraries_final[\"total_staff_expenditures\"])\n",
    "libraries_final[\"other_collection_expenditures\"] = pd.to_numeric(libraries_final[\"other_collection_expenditures\"])\n",
    "libraries_final[\"other_operating_expenditures\"] = pd.to_numeric(libraries_final[\"other_operating_expenditures\"])\n",
    "libraries_final[\"circulation_transactions\"] = pd.to_numeric(libraries_final[\"circulation_transactions\"])"
   ]
  },
  {
   "cell_type": "code",
   "execution_count": null,
   "metadata": {},
   "outputs": [],
   "source": [
    "# # df['DataFrame Column'] = df['DataFrame Column'].astype(float)\n",
    "libraries_final[\"services_population\"] = libraries_final[\"services_population\"].astype(float)\n",
    "libraries_final[\"visits\"] = libraries_final[\"visits\"].astype(float)\n",
    "libraries_final[\"registered_users\"] = libraries_final[\"registered_users\"].astype(float)\n",
    "libraries_final[\"bookmobiles\"] = libraries_final[\"bookmobiles\"].astype(float)\n",
    "libraries_final[\"mls_librarians\"] = libraries_final[\"mls_librarians\"].astype(float)\n",
    "libraries_final[\"librarians\"] = libraries_final[\"librarians\"].astype(float)\n",
    "libraries_final[\"employees\"] = libraries_final[\"employees\"].astype(float)\n",
    "libraries_final[\"total_staff\"] = libraries_final[\"total_staff\"].astype(float)\n",
    "libraries_final[\"circulation_transactions\"] = libraries_final[\"circulation_transactions\"].astype(float)\n",
    "                                                      \n",
    "libraries_final[\"salaries\"] = libraries_final[\"salaries\"].astype(float)\n",
    "libraries_final[\"benefits\"] = libraries_final[\"benefits\"].astype(float)\n",
    "libraries_final[\"total_staff_expenditures\"] = libraries_final[\"total_staff_expenditures\"].astype(float)\n",
    "libraries_final[\"local_govt_operating_revenue\"] = libraries_final[\"local_govt_operating_revenue\"].astype(float)\n",
    "libraries_final[\"state_govt_operating_revenue\"] = libraries_final[\"state_govt_operating_revenue\"].astype(float)\n",
    "libraries_final[\"federal_govt_operating_revenue\"] = libraries_final[\"federal_govt_operating_revenue\"].astype(float)\n",
    "libraries_final[\"other_operating_revenue\"] = libraries_final[\"other_operating_revenue\"].astype(float)\n",
    "libraries_final[\"total_operating_revenue\"] = libraries_final[\"total_operating_revenue\"].astype(float)\n",
    "                                                      \n",
    "libraries_final[\"print_collections_expenditures\"] = libraries_final[\"print_collections_expenditures\"].astype(float)\n",
    "libraries_final[\"digital_collections_expenditures\"] = libraries_final[\"digital_collections_expenditures\"].astype(float)\n",
    "# libraries_final[\"other_collections_expenditures\"] = libraries_final[\"other_collections_expenditures\"].astype(float)\n",
    "libraries_final[\"total_collection_expenditures\"] = libraries_final[\"total_collection_expenditures\"].astype(float)\n",
    "libraries_final[\"other_operating_expenditures\"] = libraries_final[\"other_operating_expenditures\"].astype(float)\n",
    "libraries_final[\"total_operating_expenditures\"] = libraries_final[\"total_operating_expenditures\"].astype(float)\n",
    "libraries_final[\"print_collection\"] = libraries_final[\"print_collection\"].astype(float)\n",
    "                                                      \n",
    "libraries_final[\"digital_collection\"] = libraries_final[\"digital_collection\"].astype(float)\n",
    "libraries_final[\"audio_collection\"] = libraries_final[\"audio_collection\"].astype(float)\n",
    "libraries_final[\"downloadable_audio\"] = libraries_final[\"downloadable_audio\"].astype(float)\n",
    "libraries_final[\"physical_video\"] = libraries_final[\"physical_video\"].astype(float)\n",
    "libraries_final[\"downloadable_video\"] = libraries_final[\"downloadable_video\"].astype(float)\n"
   ]
  },
  {
   "cell_type": "code",
   "execution_count": null,
   "metadata": {},
   "outputs": [],
   "source": [
    "col_dtypes = dict([(k, v.name) for k, v in dict(libraries_final.dtypes).items()])\n",
    "print(col_dtypes)"
   ]
  },
  {
   "cell_type": "code",
   "execution_count": null,
   "metadata": {},
   "outputs": [],
   "source": [
    "\n",
    "# print(libraries_final.iloc[[6095]])\n",
    "display(libraries_final.iloc[[6095]])\n"
   ]
  },
  {
   "cell_type": "code",
   "execution_count": null,
   "metadata": {},
   "outputs": [],
   "source": [
    "libraries_final[\"total_staff\"].describe"
   ]
  },
  {
   "cell_type": "code",
   "execution_count": null,
   "metadata": {},
   "outputs": [],
   "source": [
    "libraries_final = libraries_final[libraries_final.lat != 0]\n",
    "libraries_final"
   ]
  },
  {
   "cell_type": "code",
   "execution_count": null,
   "metadata": {},
   "outputs": [],
   "source": [
    "library_state = libraries_final.groupby('state')\n",
    "library_state.sum()"
   ]
  },
  {
   "cell_type": "code",
   "execution_count": null,
   "metadata": {},
   "outputs": [],
   "source": [
    "state_data.head()"
   ]
  },
  {
   "cell_type": "code",
   "execution_count": null,
   "metadata": {},
   "outputs": [],
   "source": [
    "state_data.drop(columns=[\"Unnamed: 2\"], inplace=True)\n",
    "state_data.head()"
   ]
  },
  {
   "cell_type": "code",
   "execution_count": null,
   "metadata": {},
   "outputs": [],
   "source": [
    "\n",
    "# Merge DataFrames\n",
    "libraries_state = libraries_final.merge(state_data, how=\"outer\", left_on='state', right_on=\"Abbreviation\")\n",
    "libraries_state.head()"
   ]
  },
  {
   "cell_type": "code",
   "execution_count": null,
   "metadata": {},
   "outputs": [],
   "source": [
    "libraries_state.drop(columns=[\"Abbreviation\"], inplace=True)\n",
    "libraries_state.head()"
   ]
  },
  {
   "cell_type": "code",
   "execution_count": null,
   "metadata": {},
   "outputs": [],
   "source": [
    "libraries_state = libraries_state.rename(columns={\"State\": \"state_name\"})\n",
    "libraries_state.head()\n",
    "\n",
    "                                    "
   ]
  },
  {
   "cell_type": "code",
   "execution_count": null,
   "metadata": {},
   "outputs": [],
   "source": [
    "libraries_state.dtypes\n",
    "# list(libraries_final.columns)"
   ]
  },
  {
   "cell_type": "code",
   "execution_count": null,
   "metadata": {},
   "outputs": [],
   "source": [
    "# Create database conection\n",
    "# rds_connection_string = f'{username}{password}@localhost:5432/libraries_db'\n",
    "# engine = create_engine(f'postgresql://{rds_connection_string}')\n",
    "# conn = engine.connect()\n",
    "\n",
    "# create engine to postgreSQL\n",
    "engine = create_engine(f'postgresql://postgres:{password}@{host}:{port}/{database}')\n",
    "conn = engine.connect()"
   ]
  },
  {
   "cell_type": "code",
   "execution_count": null,
   "metadata": {},
   "outputs": [],
   "source": [
    "# Confirm tables\n",
    "engine.table_names()"
   ]
  },
  {
   "cell_type": "code",
   "execution_count": null,
   "metadata": {},
   "outputs": [],
   "source": [
    "# Load DataFrame into database\n",
    "libraries_state.to_sql(name='libraries', con=engine, if_exists='append', index=False)"
   ]
  },
  {
   "cell_type": "code",
   "execution_count": null,
   "metadata": {},
   "outputs": [],
   "source": []
  }
 ],
 "metadata": {
  "kernelspec": {
   "display_name": "Python 3",
   "language": "python",
   "name": "python3"
  },
  "language_info": {
   "codemirror_mode": {
    "name": "ipython",
    "version": 3
   },
   "file_extension": ".py",
   "mimetype": "text/x-python",
   "name": "python",
   "nbconvert_exporter": "python",
   "pygments_lexer": "ipython3",
   "version": "3.6.10"
  }
 },
 "nbformat": 4,
 "nbformat_minor": 4
}
